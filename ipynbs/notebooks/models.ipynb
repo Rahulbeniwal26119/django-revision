{
 "cells": [
  {
   "cell_type": "code",
   "execution_count": 8,
   "metadata": {},
   "outputs": [
    {
     "data": {
      "text/plain": [
       "<bound method Options.can_migrate of <Options for TestMode>>"
      ]
     },
     "execution_count": 8,
     "metadata": {},
     "output_type": "execute_result"
    }
   ],
   "source": [
    "import django, os\n",
    "# os.environ.setdefault(\"DJANGO_SETTINGS_MODULE\", \"ipynbs.settings\")\n",
    "# os.environ.setdefault(\"DJANGO_ALLOW_ASYNC_UNSAFE\", \"true\")\n",
    "django.setup()\n",
    "\n",
    "from ipynbs.models import TestMode\n",
    "tm = TestMode(name='test', description='test')\n",
    "tm._meta.can_migrate\n"
   ]
  },
  {
   "cell_type": "code",
   "execution_count": 17,
   "metadata": {},
   "outputs": [
    {
     "name": "stdout",
     "output_type": "stream",
     "text": [
      "ID: None\n",
      "Name: test\n",
      "Description: test\n",
      "Created at: None\n",
      "Updated at: None\n"
     ]
    },
    {
     "ename": "AttributeError",
     "evalue": "'Options' object has no attribute 'installed'",
     "output_type": "error",
     "traceback": [
      "\u001b[0;31m---------------------------------------------------------------------------\u001b[0m",
      "\u001b[0;31mAttributeError\u001b[0m                            Traceback (most recent call last)",
      "Cell \u001b[0;32mIn[17], line 11\u001b[0m\n\u001b[1;32m      8\u001b[0m         \u001b[39mprint\u001b[39m(\u001b[39mf\u001b[39m\u001b[39m'\u001b[39m\u001b[39m{\u001b[39;00mname\u001b[39m}\u001b[39;00m\u001b[39m: \u001b[39m\u001b[39m{\u001b[39;00mvalue\u001b[39m}\u001b[39;00m\u001b[39m'\u001b[39m)\n\u001b[1;32m     10\u001b[0m get_values(tm)\n\u001b[0;32m---> 11\u001b[0m tm\u001b[39m.\u001b[39;49m_meta\u001b[39m.\u001b[39;49minstalled\n",
      "\u001b[0;31mAttributeError\u001b[0m: 'Options' object has no attribute 'installed'"
     ]
    }
   ],
   "source": [
    "from django.utils.text import capfirst\n",
    "\n",
    "\n",
    "def get_values(instance):\n",
    "    for field in instance._meta.fields:\n",
    "        name = capfirst(field.verbose_name)\n",
    "        value = getattr(instance, field.name)\n",
    "        print(f'{name}: {value}')\n",
    "\n",
    "get_values(tm)"
   ]
  },
  {
   "cell_type": "code",
   "execution_count": 3,
   "metadata": {},
   "outputs": [
    {
     "name": "stdout",
     "output_type": "stream",
     "text": [
      "core.TestMode.id\n",
      "core.testmode\n",
      "core.TestMode.id\n",
      "core testmode\n"
     ]
    }
   ],
   "source": [
    "print(tm._meta.pk)\n",
    "print(tm._meta)\n",
    "# print(tm._meta.)\n",
    "print(TestMode._meta.auto_field) # if user set pk self then this is None\n",
    "print(TestMode._meta.app_label, TestMode._meta.model_name)"
   ]
  },
  {
   "cell_type": "code",
   "execution_count": 14,
   "metadata": {},
   "outputs": [
    {
     "name": "stdout",
     "output_type": "stream",
     "text": [
      "<class 'ipynbs.models.TestMode'>\n"
     ]
    }
   ],
   "source": [
    "from django.apps import apps\n",
    "apps.clear_cache()\n",
    "# test_mode = dict(apps.all_models).get(\"core\")['testmode']\n",
    "apps.get_model(\"core\", \"testmode\")\n",
    "for i in apps.app_configs.get(\"core\").get_models():\n",
    "    print(i)"
   ]
  },
  {
   "cell_type": "code",
   "execution_count": 55,
   "metadata": {},
   "outputs": [],
   "source": [
    "tm._meta.get_field(\"created_at\").unique_for_date\n",
    "# unique_for_date -> constraint limited to a single day (e.g. a birthday)\n",
    "# tm._meta.pk\n",
    "\n",
    "tm._meta.get_field(\"name\").clean('10', tm)\n",
    "tm._meta.get_field(\"name\").contribute_to_class(TestMode, 'sold')"
   ]
  },
  {
   "cell_type": "code",
   "execution_count": 58,
   "metadata": {},
   "outputs": [
    {
     "ename": "AttributeError",
     "evalue": "type object 'TestMode' has no attribute 'sold'",
     "output_type": "error",
     "traceback": [
      "\u001b[0;31m---------------------------------------------------------------------------\u001b[0m",
      "\u001b[0;31mAttributeError\u001b[0m                            Traceback (most recent call last)",
      "Cell \u001b[0;32mIn[58], line 1\u001b[0m\n\u001b[0;32m----> 1\u001b[0m TestMode\u001b[39m.\u001b[39;49msold\n",
      "\u001b[0;31mAttributeError\u001b[0m: type object 'TestMode' has no attribute 'sold'"
     ]
    }
   ],
   "source": []
  }
 ],
 "metadata": {
  "kernelspec": {
   "display_name": "Django Shell-Plus",
   "language": "python",
   "name": "django_extensions"
  },
  "language_info": {
   "codemirror_mode": {
    "name": "ipython",
    "version": 3
   },
   "file_extension": ".py",
   "mimetype": "text/x-python",
   "name": "python",
   "nbconvert_exporter": "python",
   "pygments_lexer": "ipython3",
   "version": "3.11.0rc1"
  },
  "orig_nbformat": 4,
  "vscode": {
   "interpreter": {
    "hash": "bfc703e8fef413843746af865d9e5e8c82f162972528f686633e704148e84e07"
   }
  }
 },
 "nbformat": 4,
 "nbformat_minor": 2
}
