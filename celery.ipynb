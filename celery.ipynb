{
 "cells": [
  {
   "cell_type": "code",
   "execution_count": 3,
   "metadata": {},
   "outputs": [
    {
     "data": {
      "text/plain": [
       "'Email sent to to_user@gmail.com'"
      ]
     },
     "execution_count": 3,
     "metadata": {},
     "output_type": "execute_result"
    }
   ],
   "source": [
    "import django, os\n",
    "os.environ.setdefault(\"DJANGO_SETTINGS_MODULE\", \"django_revision.settings\")\n",
    "os.environ.setdefault(\"DJANGO_ALLOW_ASYNC_UNSAFE\", \"true\")\n",
    "django.setup()\n",
    "\n",
    "\n",
    "\n",
    "from django_revision.tasks import send_mail\n",
    "\n",
    "\n",
    "def send_report_in_email():\n",
    "    to_user = \"to_user@gmail.com\"\n",
    "    send_mail.apply_async(\n",
    "        args=[to_user, \"from_user@gmail.com\", \"Report\", \"Report Message\"],\n",
    "        countdown=1,\n",
    "        retry=True,\n",
    "        eta=None,\n",
    "        priority=0,\n",
    "        # queue=\"default\",\n",
    "        retry_policy={\n",
    "            \"max_retries\": 3,\n",
    "            \"interval_start\": 0,\n",
    "            \"interval_step\": 0.2,\n",
    "            \"interval_max\": 0.2,\n",
    "        })\n",
    "    return f\"Email sent to {to_user}\"\n",
    "\n",
    "\n",
    "send_report_in_email()\n"
   ]
  },
  {
   "cell_type": "code",
   "execution_count": null,
   "metadata": {},
   "outputs": [],
   "source": []
  },
  {
   "cell_type": "code",
   "execution_count": null,
   "metadata": {},
   "outputs": [],
   "source": []
  }
 ],
 "metadata": {
  "kernelspec": {
   "display_name": "venv",
   "language": "python",
   "name": "python3"
  },
  "language_info": {
   "codemirror_mode": {
    "name": "ipython",
    "version": 3
   },
   "file_extension": ".py",
   "mimetype": "text/x-python",
   "name": "python",
   "nbconvert_exporter": "python",
   "pygments_lexer": "ipython3",
   "version": "3.11.0rc1"
  },
  "orig_nbformat": 4
 },
 "nbformat": 4,
 "nbformat_minor": 2
}
